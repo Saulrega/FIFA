{
  "nbformat": 4,
  "nbformat_minor": 0,
  "metadata": {
    "colab": {
      "name": "Limpiar.ipynb",
      "provenance": [],
      "collapsed_sections": [],
      "authorship_tag": "ABX9TyMi8gbGUbFu6/IekF++h1RK",
      "include_colab_link": true
    },
    "kernelspec": {
      "name": "python3",
      "display_name": "Python 3"
    },
    "language_info": {
      "name": "python"
    }
  },
  "cells": [
    {
      "cell_type": "markdown",
      "metadata": {
        "id": "view-in-github",
        "colab_type": "text"
      },
      "source": [
        "<a href=\"https://colab.research.google.com/github/Saulrega/FIFA/blob/main/Limpiar.ipynb\" target=\"_parent\"><img src=\"https://colab.research.google.com/assets/colab-badge.svg\" alt=\"Open In Colab\"/></a>"
      ]
    },
    {
      "cell_type": "code",
      "execution_count": null,
      "metadata": {
        "id": "HUVVfAWM_KA0"
      },
      "outputs": [],
      "source": [
        "import numpy as np\n",
        "import pandas as pd\n",
        "import matplotlib.pyplot as plt\n",
        "import seaborn as sns"
      ]
    },
    {
      "cell_type": "code",
      "source": [
        "from google.colab import drive\n",
        "drive.mount('/content/drive/')"
      ],
      "metadata": {
        "colab": {
          "base_uri": "https://localhost:8080/"
        },
        "id": "WkA300v9D6vN",
        "outputId": "c1adad72-d79a-441f-8388-86571fd0c500"
      },
      "execution_count": null,
      "outputs": [
        {
          "output_type": "stream",
          "name": "stdout",
          "text": [
            "Drive already mounted at /content/drive/; to attempt to forcibly remount, call drive.mount(\"/content/drive/\", force_remount=True).\n"
          ]
        }
      ]
    },
    {
      "cell_type": "code",
      "source": [
        "%cd '/content/drive/MyDrive/Portafolio/Analista/'\n",
        "!ls"
      ],
      "metadata": {
        "colab": {
          "base_uri": "https://localhost:8080/"
        },
        "id": "dm1DRL2hD6zu",
        "outputId": "94f582f8-5697-4d15-f2a2-28fa53c3f908"
      },
      "execution_count": null,
      "outputs": [
        {
          "output_type": "stream",
          "name": "stdout",
          "text": [
            "/content/drive/MyDrive/Portafolio/Analista/Data\n",
            " FIFA.csv     Fraud.csv\t\t\t     'Most Values Sports Team'\n",
            " Fifa.ipynb  'Most value sports team.ipynb'\n"
          ]
        }
      ]
    },
    {
      "cell_type": "code",
      "source": [
        "df = pd.read_csv('Data/FIFA.csv')"
      ],
      "metadata": {
        "id": "uIXNK2WjD626"
      },
      "execution_count": null,
      "outputs": []
    },
    {
      "cell_type": "code",
      "source": [
        "df.head()"
      ],
      "metadata": {
        "colab": {
          "base_uri": "https://localhost:8080/",
          "height": 404
        },
        "id": "ZRKsbyiCD66t",
        "outputId": "59be5680-10e9-4995-9ba0-06b2a547baeb"
      },
      "execution_count": null,
      "outputs": [
        {
          "output_type": "execute_result",
          "data": {
            "text/plain": [
              "   Unnamed: 0      ID               Name  Age  \\\n",
              "0           0  158023           L. Messi   31   \n",
              "1           1   20801  Cristiano Ronaldo   33   \n",
              "2           2  190871          Neymar Jr   26   \n",
              "3           3  193080             De Gea   27   \n",
              "4           4  192985       K. De Bruyne   27   \n",
              "\n",
              "                                            Photo Nationality  \\\n",
              "0  https://cdn.sofifa.org/players/4/19/158023.png   Argentina   \n",
              "1   https://cdn.sofifa.org/players/4/19/20801.png    Portugal   \n",
              "2  https://cdn.sofifa.org/players/4/19/190871.png      Brazil   \n",
              "3  https://cdn.sofifa.org/players/4/19/193080.png       Spain   \n",
              "4  https://cdn.sofifa.org/players/4/19/192985.png     Belgium   \n",
              "\n",
              "                                  Flag  Overall  Potential  \\\n",
              "0  https://cdn.sofifa.org/flags/52.png       94         94   \n",
              "1  https://cdn.sofifa.org/flags/38.png       94         94   \n",
              "2  https://cdn.sofifa.org/flags/54.png       92         93   \n",
              "3  https://cdn.sofifa.org/flags/45.png       91         93   \n",
              "4   https://cdn.sofifa.org/flags/7.png       91         92   \n",
              "\n",
              "                  Club  ... Composure Marking StandingTackle  SlidingTackle  \\\n",
              "0         FC Barcelona  ...      96.0    33.0           28.0           26.0   \n",
              "1             Juventus  ...      95.0    28.0           31.0           23.0   \n",
              "2  Paris Saint-Germain  ...      94.0    27.0           24.0           33.0   \n",
              "3    Manchester United  ...      68.0    15.0           21.0           13.0   \n",
              "4      Manchester City  ...      88.0    68.0           58.0           51.0   \n",
              "\n",
              "  GKDiving  GKHandling  GKKicking  GKPositioning GKReflexes Release Clause  \n",
              "0      6.0        11.0       15.0           14.0        8.0        €226.5M  \n",
              "1      7.0        11.0       15.0           14.0       11.0        €127.1M  \n",
              "2      9.0         9.0       15.0           15.0       11.0        €228.1M  \n",
              "3     90.0        85.0       87.0           88.0       94.0        €138.6M  \n",
              "4     15.0        13.0        5.0           10.0       13.0        €196.4M  \n",
              "\n",
              "[5 rows x 89 columns]"
            ],
            "text/html": [
              "\n",
              "  <div id=\"df-1e84d862-f7c7-4be5-8d5b-a118ae67ff3e\">\n",
              "    <div class=\"colab-df-container\">\n",
              "      <div>\n",
              "<style scoped>\n",
              "    .dataframe tbody tr th:only-of-type {\n",
              "        vertical-align: middle;\n",
              "    }\n",
              "\n",
              "    .dataframe tbody tr th {\n",
              "        vertical-align: top;\n",
              "    }\n",
              "\n",
              "    .dataframe thead th {\n",
              "        text-align: right;\n",
              "    }\n",
              "</style>\n",
              "<table border=\"1\" class=\"dataframe\">\n",
              "  <thead>\n",
              "    <tr style=\"text-align: right;\">\n",
              "      <th></th>\n",
              "      <th>Unnamed: 0</th>\n",
              "      <th>ID</th>\n",
              "      <th>Name</th>\n",
              "      <th>Age</th>\n",
              "      <th>Photo</th>\n",
              "      <th>Nationality</th>\n",
              "      <th>Flag</th>\n",
              "      <th>Overall</th>\n",
              "      <th>Potential</th>\n",
              "      <th>Club</th>\n",
              "      <th>...</th>\n",
              "      <th>Composure</th>\n",
              "      <th>Marking</th>\n",
              "      <th>StandingTackle</th>\n",
              "      <th>SlidingTackle</th>\n",
              "      <th>GKDiving</th>\n",
              "      <th>GKHandling</th>\n",
              "      <th>GKKicking</th>\n",
              "      <th>GKPositioning</th>\n",
              "      <th>GKReflexes</th>\n",
              "      <th>Release Clause</th>\n",
              "    </tr>\n",
              "  </thead>\n",
              "  <tbody>\n",
              "    <tr>\n",
              "      <th>0</th>\n",
              "      <td>0</td>\n",
              "      <td>158023</td>\n",
              "      <td>L. Messi</td>\n",
              "      <td>31</td>\n",
              "      <td>https://cdn.sofifa.org/players/4/19/158023.png</td>\n",
              "      <td>Argentina</td>\n",
              "      <td>https://cdn.sofifa.org/flags/52.png</td>\n",
              "      <td>94</td>\n",
              "      <td>94</td>\n",
              "      <td>FC Barcelona</td>\n",
              "      <td>...</td>\n",
              "      <td>96.0</td>\n",
              "      <td>33.0</td>\n",
              "      <td>28.0</td>\n",
              "      <td>26.0</td>\n",
              "      <td>6.0</td>\n",
              "      <td>11.0</td>\n",
              "      <td>15.0</td>\n",
              "      <td>14.0</td>\n",
              "      <td>8.0</td>\n",
              "      <td>€226.5M</td>\n",
              "    </tr>\n",
              "    <tr>\n",
              "      <th>1</th>\n",
              "      <td>1</td>\n",
              "      <td>20801</td>\n",
              "      <td>Cristiano Ronaldo</td>\n",
              "      <td>33</td>\n",
              "      <td>https://cdn.sofifa.org/players/4/19/20801.png</td>\n",
              "      <td>Portugal</td>\n",
              "      <td>https://cdn.sofifa.org/flags/38.png</td>\n",
              "      <td>94</td>\n",
              "      <td>94</td>\n",
              "      <td>Juventus</td>\n",
              "      <td>...</td>\n",
              "      <td>95.0</td>\n",
              "      <td>28.0</td>\n",
              "      <td>31.0</td>\n",
              "      <td>23.0</td>\n",
              "      <td>7.0</td>\n",
              "      <td>11.0</td>\n",
              "      <td>15.0</td>\n",
              "      <td>14.0</td>\n",
              "      <td>11.0</td>\n",
              "      <td>€127.1M</td>\n",
              "    </tr>\n",
              "    <tr>\n",
              "      <th>2</th>\n",
              "      <td>2</td>\n",
              "      <td>190871</td>\n",
              "      <td>Neymar Jr</td>\n",
              "      <td>26</td>\n",
              "      <td>https://cdn.sofifa.org/players/4/19/190871.png</td>\n",
              "      <td>Brazil</td>\n",
              "      <td>https://cdn.sofifa.org/flags/54.png</td>\n",
              "      <td>92</td>\n",
              "      <td>93</td>\n",
              "      <td>Paris Saint-Germain</td>\n",
              "      <td>...</td>\n",
              "      <td>94.0</td>\n",
              "      <td>27.0</td>\n",
              "      <td>24.0</td>\n",
              "      <td>33.0</td>\n",
              "      <td>9.0</td>\n",
              "      <td>9.0</td>\n",
              "      <td>15.0</td>\n",
              "      <td>15.0</td>\n",
              "      <td>11.0</td>\n",
              "      <td>€228.1M</td>\n",
              "    </tr>\n",
              "    <tr>\n",
              "      <th>3</th>\n",
              "      <td>3</td>\n",
              "      <td>193080</td>\n",
              "      <td>De Gea</td>\n",
              "      <td>27</td>\n",
              "      <td>https://cdn.sofifa.org/players/4/19/193080.png</td>\n",
              "      <td>Spain</td>\n",
              "      <td>https://cdn.sofifa.org/flags/45.png</td>\n",
              "      <td>91</td>\n",
              "      <td>93</td>\n",
              "      <td>Manchester United</td>\n",
              "      <td>...</td>\n",
              "      <td>68.0</td>\n",
              "      <td>15.0</td>\n",
              "      <td>21.0</td>\n",
              "      <td>13.0</td>\n",
              "      <td>90.0</td>\n",
              "      <td>85.0</td>\n",
              "      <td>87.0</td>\n",
              "      <td>88.0</td>\n",
              "      <td>94.0</td>\n",
              "      <td>€138.6M</td>\n",
              "    </tr>\n",
              "    <tr>\n",
              "      <th>4</th>\n",
              "      <td>4</td>\n",
              "      <td>192985</td>\n",
              "      <td>K. De Bruyne</td>\n",
              "      <td>27</td>\n",
              "      <td>https://cdn.sofifa.org/players/4/19/192985.png</td>\n",
              "      <td>Belgium</td>\n",
              "      <td>https://cdn.sofifa.org/flags/7.png</td>\n",
              "      <td>91</td>\n",
              "      <td>92</td>\n",
              "      <td>Manchester City</td>\n",
              "      <td>...</td>\n",
              "      <td>88.0</td>\n",
              "      <td>68.0</td>\n",
              "      <td>58.0</td>\n",
              "      <td>51.0</td>\n",
              "      <td>15.0</td>\n",
              "      <td>13.0</td>\n",
              "      <td>5.0</td>\n",
              "      <td>10.0</td>\n",
              "      <td>13.0</td>\n",
              "      <td>€196.4M</td>\n",
              "    </tr>\n",
              "  </tbody>\n",
              "</table>\n",
              "<p>5 rows × 89 columns</p>\n",
              "</div>\n",
              "      <button class=\"colab-df-convert\" onclick=\"convertToInteractive('df-1e84d862-f7c7-4be5-8d5b-a118ae67ff3e')\"\n",
              "              title=\"Convert this dataframe to an interactive table.\"\n",
              "              style=\"display:none;\">\n",
              "        \n",
              "  <svg xmlns=\"http://www.w3.org/2000/svg\" height=\"24px\"viewBox=\"0 0 24 24\"\n",
              "       width=\"24px\">\n",
              "    <path d=\"M0 0h24v24H0V0z\" fill=\"none\"/>\n",
              "    <path d=\"M18.56 5.44l.94 2.06.94-2.06 2.06-.94-2.06-.94-.94-2.06-.94 2.06-2.06.94zm-11 1L8.5 8.5l.94-2.06 2.06-.94-2.06-.94L8.5 2.5l-.94 2.06-2.06.94zm10 10l.94 2.06.94-2.06 2.06-.94-2.06-.94-.94-2.06-.94 2.06-2.06.94z\"/><path d=\"M17.41 7.96l-1.37-1.37c-.4-.4-.92-.59-1.43-.59-.52 0-1.04.2-1.43.59L10.3 9.45l-7.72 7.72c-.78.78-.78 2.05 0 2.83L4 21.41c.39.39.9.59 1.41.59.51 0 1.02-.2 1.41-.59l7.78-7.78 2.81-2.81c.8-.78.8-2.07 0-2.86zM5.41 20L4 18.59l7.72-7.72 1.47 1.35L5.41 20z\"/>\n",
              "  </svg>\n",
              "      </button>\n",
              "      \n",
              "  <style>\n",
              "    .colab-df-container {\n",
              "      display:flex;\n",
              "      flex-wrap:wrap;\n",
              "      gap: 12px;\n",
              "    }\n",
              "\n",
              "    .colab-df-convert {\n",
              "      background-color: #E8F0FE;\n",
              "      border: none;\n",
              "      border-radius: 50%;\n",
              "      cursor: pointer;\n",
              "      display: none;\n",
              "      fill: #1967D2;\n",
              "      height: 32px;\n",
              "      padding: 0 0 0 0;\n",
              "      width: 32px;\n",
              "    }\n",
              "\n",
              "    .colab-df-convert:hover {\n",
              "      background-color: #E2EBFA;\n",
              "      box-shadow: 0px 1px 2px rgba(60, 64, 67, 0.3), 0px 1px 3px 1px rgba(60, 64, 67, 0.15);\n",
              "      fill: #174EA6;\n",
              "    }\n",
              "\n",
              "    [theme=dark] .colab-df-convert {\n",
              "      background-color: #3B4455;\n",
              "      fill: #D2E3FC;\n",
              "    }\n",
              "\n",
              "    [theme=dark] .colab-df-convert:hover {\n",
              "      background-color: #434B5C;\n",
              "      box-shadow: 0px 1px 3px 1px rgba(0, 0, 0, 0.15);\n",
              "      filter: drop-shadow(0px 1px 2px rgba(0, 0, 0, 0.3));\n",
              "      fill: #FFFFFF;\n",
              "    }\n",
              "  </style>\n",
              "\n",
              "      <script>\n",
              "        const buttonEl =\n",
              "          document.querySelector('#df-1e84d862-f7c7-4be5-8d5b-a118ae67ff3e button.colab-df-convert');\n",
              "        buttonEl.style.display =\n",
              "          google.colab.kernel.accessAllowed ? 'block' : 'none';\n",
              "\n",
              "        async function convertToInteractive(key) {\n",
              "          const element = document.querySelector('#df-1e84d862-f7c7-4be5-8d5b-a118ae67ff3e');\n",
              "          const dataTable =\n",
              "            await google.colab.kernel.invokeFunction('convertToInteractive',\n",
              "                                                     [key], {});\n",
              "          if (!dataTable) return;\n",
              "\n",
              "          const docLinkHtml = 'Like what you see? Visit the ' +\n",
              "            '<a target=\"_blank\" href=https://colab.research.google.com/notebooks/data_table.ipynb>data table notebook</a>'\n",
              "            + ' to learn more about interactive tables.';\n",
              "          element.innerHTML = '';\n",
              "          dataTable['output_type'] = 'display_data';\n",
              "          await google.colab.output.renderOutput(dataTable, element);\n",
              "          const docLink = document.createElement('div');\n",
              "          docLink.innerHTML = docLinkHtml;\n",
              "          element.appendChild(docLink);\n",
              "        }\n",
              "      </script>\n",
              "    </div>\n",
              "  </div>\n",
              "  "
            ]
          },
          "metadata": {},
          "execution_count": 139
        }
      ]
    },
    {
      "cell_type": "code",
      "source": [
        "df.columns"
      ],
      "metadata": {
        "colab": {
          "base_uri": "https://localhost:8080/"
        },
        "id": "vixd1OQuD7EL",
        "outputId": "2f8df8ca-a567-45b4-8486-9715d459259f"
      },
      "execution_count": null,
      "outputs": [
        {
          "output_type": "execute_result",
          "data": {
            "text/plain": [
              "Index(['Unnamed: 0', 'ID', 'Name', 'Age', 'Photo', 'Nationality', 'Flag',\n",
              "       'Overall', 'Potential', 'Club', 'Club Logo', 'Value', 'Wage', 'Special',\n",
              "       'Preferred Foot', 'International Reputation', 'Weak Foot',\n",
              "       'Skill Moves', 'Work Rate', 'Body Type', 'Real Face', 'Position',\n",
              "       'Jersey Number', 'Joined', 'Loaned From', 'Contract Valid Until',\n",
              "       'Height', 'Weight', 'LS', 'ST', 'RS', 'LW', 'LF', 'CF', 'RF', 'RW',\n",
              "       'LAM', 'CAM', 'RAM', 'LM', 'LCM', 'CM', 'RCM', 'RM', 'LWB', 'LDM',\n",
              "       'CDM', 'RDM', 'RWB', 'LB', 'LCB', 'CB', 'RCB', 'RB', 'Crossing',\n",
              "       'Finishing', 'HeadingAccuracy', 'ShortPassing', 'Volleys', 'Dribbling',\n",
              "       'Curve', 'FKAccuracy', 'LongPassing', 'BallControl', 'Acceleration',\n",
              "       'SprintSpeed', 'Agility', 'Reactions', 'Balance', 'ShotPower',\n",
              "       'Jumping', 'Stamina', 'Strength', 'LongShots', 'Aggression',\n",
              "       'Interceptions', 'Positioning', 'Vision', 'Penalties', 'Composure',\n",
              "       'Marking', 'StandingTackle', 'SlidingTackle', 'GKDiving', 'GKHandling',\n",
              "       'GKKicking', 'GKPositioning', 'GKReflexes', 'Release Clause'],\n",
              "      dtype='object')"
            ]
          },
          "metadata": {},
          "execution_count": 140
        }
      ]
    },
    {
      "cell_type": "code",
      "source": [
        "df.drop(columns=['Unnamed: 0', 'Photo', 'Flag', 'Club Logo', 'Loaned From', 'Work Rate', 'Real Face'], inplace=True)"
      ],
      "metadata": {
        "id": "G-6e28dUQqsh"
      },
      "execution_count": null,
      "outputs": []
    },
    {
      "cell_type": "code",
      "source": [
        "df['Value']= df['Value'].str.replace('[M€]','')\n",
        "df['Wage']= df['Wage'].str.replace('[MK€]','')\n",
        "df['Release Clause']= df['Release Clause'].str.replace('[M€]','')\n",
        "df['Height'] = df['Height'].str.replace('\\'','.')\n",
        "df['Weight'].replace(regex=\"lbs\",value='', inplace=True) \n",
        "\n",
        "\n",
        "expre = '\\+[0-9]'\n",
        "df['LS'].replace(regex=expre,value='',inplace=True)  \n",
        "df['ST'].replace(regex=expre,value='',inplace=True)        \n",
        "df['RS'].replace(regex=expre,value='',inplace=True)  \n",
        "df['LW'].replace(regex=expre,value='',inplace=True)  \n",
        "df['LF'].replace(regex=expre,value='',inplace=True)  \n",
        "df['CF'].replace(regex=expre,value='',inplace=True)  \n",
        "df['RF'].replace(regex=expre,value='',inplace=True)  \n",
        "df['RW'].replace(regex=expre,value='',inplace=True)  \n",
        "df['LAM'].replace(regex=expre,value='',inplace=True)  \n",
        "df['CAM'].replace(regex=expre,value='',inplace=True)  \n",
        "df['RAM'].replace(regex=expre,value='',inplace=True)  \n",
        "df['LM'].replace(regex=expre,value='',inplace=True)  \n",
        "df['LCM'].replace(regex=expre,value='',inplace=True) \n",
        "df['CM'].replace(regex=expre,value='',inplace=True)  \n",
        "df['RCM'].replace(regex=expre,value='',inplace=True)  \n",
        "df['RM'].replace(regex=expre,value='',inplace=True)  \n",
        "df['LWB'].replace(regex=expre,value='',inplace=True)  \n",
        "df['LDM'].replace(regex=expre,value='',inplace=True)  \n",
        "df['CDM'].replace(regex=expre,value='',inplace=True)  \n",
        "df['RDM'].replace(regex=expre,value='',inplace=True)  \n",
        "df['RWB'].replace(regex=expre,value='',inplace=True)  \n",
        "df['LB'].replace(regex=expre,value='',inplace=True)  \n",
        "df['LCB'].replace(regex=expre,value='',inplace=True)  \n",
        "df['CB'].replace(regex=expre,value='',inplace=True) \n",
        "df['RCB'].replace(regex=expre,value='',inplace=True)  \n",
        "df['RB'].replace(regex=expre,value='',inplace=True) "
      ],
      "metadata": {
        "colab": {
          "base_uri": "https://localhost:8080/"
        },
        "id": "cOg-r-AdLtxY",
        "outputId": "fb5e4fcf-1abe-453f-a304-e91f1d7a0405"
      },
      "execution_count": null,
      "outputs": [
        {
          "output_type": "stream",
          "name": "stderr",
          "text": [
            "/usr/local/lib/python3.7/dist-packages/ipykernel_launcher.py:1: FutureWarning: The default value of regex will change from True to False in a future version.\n",
            "  \"\"\"Entry point for launching an IPython kernel.\n",
            "/usr/local/lib/python3.7/dist-packages/ipykernel_launcher.py:2: FutureWarning: The default value of regex will change from True to False in a future version.\n",
            "  \n",
            "/usr/local/lib/python3.7/dist-packages/ipykernel_launcher.py:3: FutureWarning: The default value of regex will change from True to False in a future version.\n",
            "  This is separate from the ipykernel package so we can avoid doing imports until\n"
          ]
        }
      ]
    },
    {
      "cell_type": "code",
      "source": [
        "df = df[df['Value'].str.contains('K')==False]\n",
        "df = df[df['Release Clause'].str.contains('K')==False]\n"
      ],
      "metadata": {
        "id": "r1OEoEGzQ4z_"
      },
      "execution_count": null,
      "outputs": []
    },
    {
      "cell_type": "code",
      "source": [
        "df['Value'] = pd.to_numeric(df['Value'])\n",
        "df['Wage']= pd.to_numeric(df['Wage'])\n",
        "df['Release Clause']= pd.to_numeric(df['Release Clause'])\n",
        "df['Height'] = pd.to_numeric(df['Height'])\n",
        "df['Weight'] = pd.to_numeric(df['Weight'])\n"
      ],
      "metadata": {
        "id": "8iQOVSerMu5k"
      },
      "execution_count": null,
      "outputs": []
    },
    {
      "cell_type": "code",
      "source": [
        "df['LS'] = pd.to_numeric(df['LS'])\n",
        "df['ST'] = pd.to_numeric(df['ST'])\n",
        "df['RS'] = pd.to_numeric(df['RS'])\n",
        "df['LW'] = pd.to_numeric(df['LW'])\n",
        "df['LF'] = pd.to_numeric(df['LF'])\n",
        "df['CF'] = pd.to_numeric(df['CF'])\n",
        "df['RF'] = pd.to_numeric(df['RF'])\n",
        "df['RW'] = pd.to_numeric(df['RW'])\n",
        "df['LAM'] = pd.to_numeric(df['LAM'])\n",
        "df['CAM'] = pd.to_numeric(df['CAM'])\n",
        "df['RAM'] = pd.to_numeric(df['RAM'])\n",
        "df['LM'] = pd.to_numeric(df['LM'])\n",
        "df['LCM'] = pd.to_numeric(df['LCM'])\n",
        "df['CM'] = pd.to_numeric(df['CM'])\n",
        "df['RCM'] = pd.to_numeric(df['RCM'])\n",
        "df['RM'] = pd.to_numeric(df['RM'])\n",
        "df['LWB'] = pd.to_numeric(df['LWB'])\n",
        "df['LDM'] = pd.to_numeric(df['LDM'])\n",
        "df['CDM'] = pd.to_numeric(df['CDM'])\n",
        "df['RDM'] = pd.to_numeric(df['RDM'])\n",
        "df['RWB'] = pd.to_numeric(df['RWB'])\n",
        "df['LB'] = pd.to_numeric(df['LB'])\n",
        "df['LCB'] = pd.to_numeric(df['LCB'])\n",
        "df['CB'] = pd.to_numeric(df['CB'])\n",
        "df['RCB'] = pd.to_numeric(df['RCB'])\n",
        "df['RB'] = pd.to_numeric(df['RB'])"
      ],
      "metadata": {
        "id": "sTqszKM-crdR"
      },
      "execution_count": null,
      "outputs": []
    },
    {
      "cell_type": "code",
      "source": [
        "df['Contract Valid Until']= df['Contract Valid Until'].apply(lambda x: pd.to_datetime(x, errors='coerce')).dt.year\n",
        "df['Joined']= df['Joined'].apply(lambda x: pd.to_datetime(x, errors='coerce'))\n"
      ],
      "metadata": {
        "id": "WoPjU_6ABXqm"
      },
      "execution_count": null,
      "outputs": []
    },
    {
      "cell_type": "code",
      "source": [
        "df[['Name',\"Nationality\", \"Club\", \"Preferred Foot\", 'Position', 'Body Type', ]]= df[['Name',\"Nationality\", \"Club\", \"Preferred Foot\", 'Position', 'Body Type', ]].astype(\"category\")"
      ],
      "metadata": {
        "id": "sNXDGvwpCyeG"
      },
      "execution_count": null,
      "outputs": []
    },
    {
      "cell_type": "code",
      "source": [
        "df.info()"
      ],
      "metadata": {
        "colab": {
          "base_uri": "https://localhost:8080/"
        },
        "id": "VjG8_SDZNt0O",
        "outputId": "65e58149-a857-4694-8ba2-7ab788a7f746"
      },
      "execution_count": null,
      "outputs": [
        {
          "output_type": "stream",
          "name": "stdout",
          "text": [
            "<class 'pandas.core.frame.DataFrame'>\n",
            "Int64Index: 6197 entries, 0 to 11835\n",
            "Data columns (total 82 columns):\n",
            " #   Column                    Non-Null Count  Dtype         \n",
            "---  ------                    --------------  -----         \n",
            " 0   ID                        6197 non-null   int64         \n",
            " 1   Name                      6197 non-null   category      \n",
            " 2   Age                       6197 non-null   int64         \n",
            " 3   Nationality               6197 non-null   category      \n",
            " 4   Overall                   6197 non-null   int64         \n",
            " 5   Potential                 6197 non-null   int64         \n",
            " 6   Club                      6197 non-null   category      \n",
            " 7   Value                     6197 non-null   float64       \n",
            " 8   Wage                      6197 non-null   int64         \n",
            " 9   Special                   6197 non-null   int64         \n",
            " 10  Preferred Foot            6197 non-null   category      \n",
            " 11  International Reputation  6197 non-null   float64       \n",
            " 12  Weak Foot                 6197 non-null   float64       \n",
            " 13  Skill Moves               6197 non-null   float64       \n",
            " 14  Body Type                 6197 non-null   category      \n",
            " 15  Position                  6197 non-null   category      \n",
            " 16  Jersey Number             6197 non-null   float64       \n",
            " 17  Joined                    6197 non-null   datetime64[ns]\n",
            " 18  Contract Valid Until      6197 non-null   int64         \n",
            " 19  Height                    6197 non-null   float64       \n",
            " 20  Weight                    6197 non-null   int64         \n",
            " 21  LS                        5748 non-null   float64       \n",
            " 22  ST                        5748 non-null   float64       \n",
            " 23  RS                        5748 non-null   float64       \n",
            " 24  LW                        5748 non-null   float64       \n",
            " 25  LF                        5748 non-null   float64       \n",
            " 26  CF                        5748 non-null   float64       \n",
            " 27  RF                        5748 non-null   float64       \n",
            " 28  RW                        5748 non-null   float64       \n",
            " 29  LAM                       5748 non-null   float64       \n",
            " 30  CAM                       5748 non-null   float64       \n",
            " 31  RAM                       5748 non-null   float64       \n",
            " 32  LM                        5748 non-null   float64       \n",
            " 33  LCM                       5748 non-null   float64       \n",
            " 34  CM                        5748 non-null   float64       \n",
            " 35  RCM                       5748 non-null   float64       \n",
            " 36  RM                        5748 non-null   float64       \n",
            " 37  LWB                       5748 non-null   float64       \n",
            " 38  LDM                       5748 non-null   float64       \n",
            " 39  CDM                       5748 non-null   float64       \n",
            " 40  RDM                       5748 non-null   float64       \n",
            " 41  RWB                       5748 non-null   float64       \n",
            " 42  LB                        5748 non-null   float64       \n",
            " 43  LCB                       5748 non-null   float64       \n",
            " 44  CB                        5748 non-null   float64       \n",
            " 45  RCB                       5748 non-null   float64       \n",
            " 46  RB                        5748 non-null   float64       \n",
            " 47  Crossing                  6197 non-null   float64       \n",
            " 48  Finishing                 6197 non-null   float64       \n",
            " 49  HeadingAccuracy           6197 non-null   float64       \n",
            " 50  ShortPassing              6197 non-null   float64       \n",
            " 51  Volleys                   6197 non-null   float64       \n",
            " 52  Dribbling                 6197 non-null   float64       \n",
            " 53  Curve                     6197 non-null   float64       \n",
            " 54  FKAccuracy                6197 non-null   float64       \n",
            " 55  LongPassing               6197 non-null   float64       \n",
            " 56  BallControl               6197 non-null   float64       \n",
            " 57  Acceleration              6197 non-null   float64       \n",
            " 58  SprintSpeed               6197 non-null   float64       \n",
            " 59  Agility                   6197 non-null   float64       \n",
            " 60  Reactions                 6197 non-null   float64       \n",
            " 61  Balance                   6197 non-null   float64       \n",
            " 62  ShotPower                 6197 non-null   float64       \n",
            " 63  Jumping                   6197 non-null   float64       \n",
            " 64  Stamina                   6197 non-null   float64       \n",
            " 65  Strength                  6197 non-null   float64       \n",
            " 66  LongShots                 6197 non-null   float64       \n",
            " 67  Aggression                6197 non-null   float64       \n",
            " 68  Interceptions             6197 non-null   float64       \n",
            " 69  Positioning               6197 non-null   float64       \n",
            " 70  Vision                    6197 non-null   float64       \n",
            " 71  Penalties                 6197 non-null   float64       \n",
            " 72  Composure                 6197 non-null   float64       \n",
            " 73  Marking                   6197 non-null   float64       \n",
            " 74  StandingTackle            6197 non-null   float64       \n",
            " 75  SlidingTackle             6197 non-null   float64       \n",
            " 76  GKDiving                  6197 non-null   float64       \n",
            " 77  GKHandling                6197 non-null   float64       \n",
            " 78  GKKicking                 6197 non-null   float64       \n",
            " 79  GKPositioning             6197 non-null   float64       \n",
            " 80  GKReflexes                6197 non-null   float64       \n",
            " 81  Release Clause            6197 non-null   float64       \n",
            "dtypes: category(6), datetime64[ns](1), float64(67), int64(8)\n",
            "memory usage: 3.9 MB\n"
          ]
        }
      ]
    },
    {
      "cell_type": "code",
      "source": [
        "df.to_csv('/content/drive/MyDrive/Portafolio/Analista/Data/FIFA_clean.csv')"
      ],
      "metadata": {
        "id": "QPt-nNxCPI6J"
      },
      "execution_count": null,
      "outputs": []
    }
  ]
}